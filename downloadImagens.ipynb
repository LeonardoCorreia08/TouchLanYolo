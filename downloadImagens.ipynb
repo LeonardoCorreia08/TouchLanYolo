{
  "nbformat": 4,
  "nbformat_minor": 0,
  "metadata": {
    "colab": {
      "provenance": [],
      "authorship_tag": "ABX9TyMMSp2WNhbIXUv1MtM8Ayo/",
      "include_colab_link": true
    },
    "kernelspec": {
      "name": "python3",
      "display_name": "Python 3"
    },
    "language_info": {
      "name": "python"
    }
  },
  "cells": [
    {
      "cell_type": "markdown",
      "metadata": {
        "id": "view-in-github",
        "colab_type": "text"
      },
      "source": [
        "<a href=\"https://colab.research.google.com/github/LeonardoCorreia08/TouchLanYolo/blob/main/downloadImagens.ipynb\" target=\"_parent\"><img src=\"https://colab.research.google.com/assets/colab-badge.svg\" alt=\"Open In Colab\"/></a>"
      ]
    },
    {
      "cell_type": "code",
      "source": [
        "pip install bing-image-downloader\n"
      ],
      "metadata": {
        "colab": {
          "base_uri": "https://localhost:8080/"
        },
        "id": "vEptBiqW5k8o",
        "outputId": "e658b833-239a-4462-f577-df41c70c3998"
      },
      "execution_count": 30,
      "outputs": [
        {
          "output_type": "stream",
          "name": "stdout",
          "text": [
            "Collecting bing-image-downloader\n",
            "  Downloading bing_image_downloader-1.1.2-py3-none-any.whl (5.9 kB)\n",
            "Installing collected packages: bing-image-downloader\n",
            "Successfully installed bing-image-downloader-1.1.2\n"
          ]
        }
      ]
    },
    {
      "cell_type": "code",
      "source": [
        "from bing_image_downloader import downloader\n",
        "\n",
        "filtro = 'sam winchester'\n",
        "destino = '/content/sobrenatural/sam/dataset'\n",
        "\n",
        "print('Iniciando downloads...')\n",
        "try:\n",
        "    downloader.download(filtro, limit=10, output_dir=destino, adult_filter_off=True, force_replace=False)\n",
        "\n",
        "    print('Downloads concluídos!')\n",
        "except Exception as e:\n",
        "    print('Erro ao fazer o download:', e)\n"
      ],
      "metadata": {
        "id": "ALY-R-xM57XI"
      },
      "execution_count": null,
      "outputs": []
    }
  ]
}